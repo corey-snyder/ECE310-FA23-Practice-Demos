{
 "cells": [
  {
   "cell_type": "code",
   "execution_count": null,
   "id": "526752fa",
   "metadata": {},
   "outputs": [],
   "source": [
    "import numpy as np\n",
    "import matplotlib.pyplot as plt\n",
    "\n",
    "L = 2**12 # number of points in DFTs for visualizing spectra\n",
    "\n",
    "plt.rcParams.update({'font.size': 24}) # update font size"
   ]
  },
  {
   "cell_type": "markdown",
   "id": "8dfd3f48",
   "metadata": {},
   "source": [
    "# Visualizing any magnitude and phase response"
   ]
  },
  {
   "cell_type": "code",
   "execution_count": null,
   "id": "c83ff367",
   "metadata": {
    "scrolled": false
   },
   "outputs": [],
   "source": [
    "'''\n",
    "The only line you should need to edit here is the \"h_n\" line where we define the impulse response of the system.\n",
    "\n",
    "You may assume the impulse response starts at n=0. Thus, we can infer the impulse response for a given list\n",
    "like in the below examples:\n",
    "\n",
    "Example 1: h_n = [1, -2, 1] -> h[n] = delta[n] - 2delta[n-1] + delta[n-2]\n",
    "Example 2: h_n = [1, 0, -1] -> h[n] = delta[n] - delta[n-2]\n",
    "\n",
    "The provided code will plot the magnitude and phase response between [-pi, pi].\n",
    "'''\n",
    "\n",
    "full_labels = [r'$-\\pi$', r'$-\\frac{3\\pi}{4}$', r'$-\\frac{\\pi}{2}$', r'$-\\frac{\\pi}{4}$',\n",
    "                 r'$0$', r'$\\frac{\\pi}{4}$', r'$\\frac{\\pi}{2}$', r'$\\frac{3\\pi}{4}$', r'$\\pi$']\n",
    "full_locations = [np.pi*(i-4)/4 for i in range(9)]\n",
    "\n",
    "# impulse response\n",
    "h_n = [1, -2, 1] # edit this line to try different impulse responses starting at n=0\n",
    "# Compute L point DFT, apply fftshift to center about zero frequency\n",
    "H_omega = np.fft.fftshift(np.fft.fft(h_n, L))\n",
    "# magnitude response\n",
    "H_magnitude = abs(H_omega)\n",
    "# phase response\n",
    "H_phase = np.angle(H_omega)\n",
    "\n",
    "# plotting\n",
    "omega = np.linspace(-np.pi, np.pi, L) # x-axis to plot against\n",
    "plt.figure(figsize=(24,10))\n",
    "plt.subplot(121)\n",
    "plt.plot(omega, H_magnitude)\n",
    "plt.xlabel(r'$\\omega$')\n",
    "plt.xticks(full_locations, full_labels)\n",
    "plt.ylim([0, np.max(H_magnitude)+0.5])\n",
    "plt.title(r'$|H(\\omega)|$')\n",
    "plt.subplot(122)\n",
    "plt.plot(omega, H_phase)\n",
    "plt.ylim([-np.pi, np.pi])\n",
    "plt.xlabel(r'$\\omega$')\n",
    "plt.xticks(full_locations, full_labels)\n",
    "plt.yticks(full_locations, full_labels)\n",
    "plt.title(r'$\\angle H(\\omega)$')"
   ]
  }
 ],
 "metadata": {
  "kernelspec": {
   "display_name": "Python 3 (ipykernel)",
   "language": "python",
   "name": "python3"
  },
  "language_info": {
   "codemirror_mode": {
    "name": "ipython",
    "version": 3
   },
   "file_extension": ".py",
   "mimetype": "text/x-python",
   "name": "python",
   "nbconvert_exporter": "python",
   "pygments_lexer": "ipython3",
   "version": "3.9.12"
  }
 },
 "nbformat": 4,
 "nbformat_minor": 5
}
